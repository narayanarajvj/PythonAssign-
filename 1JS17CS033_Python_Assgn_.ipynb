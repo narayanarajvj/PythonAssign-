{
  "nbformat": 4,
  "nbformat_minor": 0,
  "metadata": {
    "colab": {
      "name": "1JS17CS033 Python Assgn .ipynb",
      "provenance": [],
      "collapsed_sections": [],
      "authorship_tag": "ABX9TyPyl3/z3Cr6R+BUqpETQ559",
      "include_colab_link": true
    },
    "kernelspec": {
      "name": "python3",
      "display_name": "Python 3"
    }
  },
  "cells": [
    {
      "cell_type": "markdown",
      "metadata": {
        "id": "view-in-github",
        "colab_type": "text"
      },
      "source": [
        "<a href=\"https://colab.research.google.com/github/narayanarajvj/PythonAssign-/blob/master/1JS17CS033_Python_Assgn_.ipynb\" target=\"_parent\"><img src=\"https://colab.research.google.com/assets/colab-badge.svg\" alt=\"Open In Colab\"/></a>"
      ]
    },
    {
      "cell_type": "markdown",
      "metadata": {
        "id": "dqhnwwrBpuOp",
        "colab_type": "text"
      },
      "source": [
        ""
      ]
    },
    {
      "cell_type": "markdown",
      "metadata": {
        "id": "i7nBZAw8O_ir",
        "colab_type": "text"
      },
      "source": [
        "1. Write a function in python which detects whether the given two strings are anagrams or not.\n"
      ]
    },
    {
      "cell_type": "code",
      "metadata": {
        "id": "UIzhZw67ME5k",
        "colab_type": "code",
        "outputId": "aabf1639-365b-4128-c7f0-5f054d224c65",
        "colab": {
          "base_uri": "https://localhost:8080/",
          "height": 34
        }
      },
      "source": [
        "s1 = input(\"Enter the first string: \")\n"
      ],
      "execution_count": 0,
      "outputs": [
        {
          "output_type": "stream",
          "text": [
            "Enter the first string: don\n"
          ],
          "name": "stdout"
        }
      ]
    },
    {
      "cell_type": "code",
      "metadata": {
        "id": "GYzZnup-NBrS",
        "colab_type": "code",
        "outputId": "58011c35-f059-4e72-ef5c-fe4276a186e9",
        "colab": {
          "base_uri": "https://localhost:8080/",
          "height": 34
        }
      },
      "source": [
        "s2 = input(\"Enter the two string: \")"
      ],
      "execution_count": 0,
      "outputs": [
        {
          "output_type": "stream",
          "text": [
            "Enter the two string: hat\n"
          ],
          "name": "stdout"
        }
      ]
    },
    {
      "cell_type": "code",
      "metadata": {
        "id": "7iiMpUi_OG1O",
        "colab_type": "code",
        "outputId": "e47a9222-7817-496f-b24b-1fa4d2811e3b",
        "colab": {
          "base_uri": "https://localhost:8080/",
          "height": 34
        }
      },
      "source": [
        "if(sorted(s1)==sorted(s2)):\n",
        "  print(s1+' and '+s2+' are anagrams')\n",
        "else:\n",
        "  print(s1+' and '+s2+' are not anagrams')"
      ],
      "execution_count": 0,
      "outputs": [
        {
          "output_type": "stream",
          "text": [
            "don and hat are not anagrams\n"
          ],
          "name": "stdout"
        }
      ]
    },
    {
      "cell_type": "markdown",
      "metadata": {
        "id": "8KSQ2AnOQQpR",
        "colab_type": "text"
      },
      "source": [
        "2. Write a program in Python to reverse a string without using inbuilt function reverse string?"
      ]
    },
    {
      "cell_type": "code",
      "metadata": {
        "id": "S9bY9ApkPVXf",
        "colab_type": "code",
        "outputId": "48d305fc-2cd1-4333-dcf2-7b122caa324f",
        "colab": {
          "base_uri": "https://localhost:8080/",
          "height": 34
        }
      },
      "source": [
        "str1 = input('Enter a string: ')"
      ],
      "execution_count": 0,
      "outputs": [
        {
          "output_type": "stream",
          "text": [
            "Enter a string: abc\n"
          ],
          "name": "stdout"
        }
      ]
    },
    {
      "cell_type": "code",
      "metadata": {
        "id": "S3KD5F7fQe6M",
        "colab_type": "code",
        "outputId": "52d29493-2503-4564-e8e2-9a489e887895",
        "colab": {
          "base_uri": "https://localhost:8080/",
          "height": 34
        }
      },
      "source": [
        "lst = list(str1)\n",
        "lst"
      ],
      "execution_count": 0,
      "outputs": [
        {
          "output_type": "execute_result",
          "data": {
            "text/plain": [
              "['a', 'b', 'c']"
            ]
          },
          "metadata": {
            "tags": []
          },
          "execution_count": 34
        }
      ]
    },
    {
      "cell_type": "code",
      "metadata": {
        "id": "dMr-Li7jSkWH",
        "colab_type": "code",
        "outputId": "74b0dd3a-9b18-43f2-ece7-569126239558",
        "colab": {
          "base_uri": "https://localhost:8080/",
          "height": 34
        }
      },
      "source": [
        "lst1 = lst[::-1]\n",
        "lst1"
      ],
      "execution_count": 0,
      "outputs": [
        {
          "output_type": "execute_result",
          "data": {
            "text/plain": [
              "['c', 'b', 'a']"
            ]
          },
          "metadata": {
            "tags": []
          },
          "execution_count": 35
        }
      ]
    },
    {
      "cell_type": "code",
      "metadata": {
        "id": "rh_GkH6KTwFJ",
        "colab_type": "code",
        "outputId": "3114b16c-56d2-45d8-8f5f-1d31b995aa8d",
        "colab": {
          "base_uri": "https://localhost:8080/",
          "height": 34
        }
      },
      "source": [
        "rev = ''\n",
        "print('Reversed String: '+rev.join(lst1))"
      ],
      "execution_count": 0,
      "outputs": [
        {
          "output_type": "stream",
          "text": [
            "Reversed String: cba\n"
          ],
          "name": "stdout"
        }
      ]
    },
    {
      "cell_type": "markdown",
      "metadata": {
        "id": "yMSwaBdxVfbz",
        "colab_type": "text"
      },
      "source": [
        "3. Write a program to calculate number of upper case letters and number of lower case letters?"
      ]
    },
    {
      "cell_type": "code",
      "metadata": {
        "id": "iC09V131Vn4L",
        "colab_type": "code",
        "outputId": "c6a7179d-41f8-4653-e5cf-45cd3a35e72a",
        "colab": {
          "base_uri": "https://localhost:8080/",
          "height": 34
        }
      },
      "source": [
        "str1 = input('Enter a string: ')"
      ],
      "execution_count": 0,
      "outputs": [
        {
          "output_type": "stream",
          "text": [
            "Enter a string: abvFG\n"
          ],
          "name": "stdout"
        }
      ]
    },
    {
      "cell_type": "code",
      "metadata": {
        "id": "2jWegODKcHVC",
        "colab_type": "code",
        "colab": {}
      },
      "source": [
        "dic = {'up':0,'low':0}\n",
        "for i in str1:\n",
        "  if i.isupper():\n",
        "    dic['up'] += 1\n",
        "  elif i.islower():\n",
        "    dic['low'] += 1\n",
        "  else:\n",
        "    continue"
      ],
      "execution_count": 0,
      "outputs": []
    },
    {
      "cell_type": "code",
      "metadata": {
        "id": "SIxLhk0ncQWs",
        "colab_type": "code",
        "outputId": "c4d8a3ab-cef5-4802-e90c-a950a8f2cec7",
        "colab": {
          "base_uri": "https://localhost:8080/",
          "height": 50
        }
      },
      "source": [
        "print('Upper case: ',dic[\"up\"])\n",
        "print('Lower case: ',dic[\"low\"])"
      ],
      "execution_count": 0,
      "outputs": [
        {
          "output_type": "stream",
          "text": [
            "Upper case:  2\n",
            "Lower case:  3\n"
          ],
          "name": "stdout"
        }
      ]
    },
    {
      "cell_type": "markdown",
      "metadata": {
        "id": "w_d_DpCLcew2",
        "colab_type": "text"
      },
      "source": [
        "4. Write a Python program to sort a list of elements using Gnome sort.\n",
        "Gnome sort is a sorting algorithm originally proposed by Dr. Hamid Sarbazi-Azad\n",
        "(Professor of Computer Engineering at Sharif University of Technology) in 2000\n",
        "and called \"stupid sort\" (not to be confused with bogosort), and then later on\n",
        "described by Dick Grune and named \"gnome sort\". The algorithm always finds the\n",
        "first place where two adjacent elements are in the wrong order, and swaps them. It takes advantage of the fact that performing a swap can introduce a new out-oforder adjacent pair only next to the two swapped elements."
      ]
    },
    {
      "cell_type": "code",
      "metadata": {
        "id": "EJIOeH6dceNt",
        "colab_type": "code",
        "outputId": "9d57c140-73e4-4a3e-c673-d2ec7a34a4f6",
        "colab": {
          "base_uri": "https://localhost:8080/",
          "height": 34
        }
      },
      "source": [
        "n = int(input(\"Enter the number of elements: \"))"
      ],
      "execution_count": 0,
      "outputs": [
        {
          "output_type": "stream",
          "text": [
            "Enter the number of elements: 3\n"
          ],
          "name": "stdout"
        }
      ]
    },
    {
      "cell_type": "code",
      "metadata": {
        "id": "Emtnbw9-h3ul",
        "colab_type": "code",
        "outputId": "930b03a6-8c8a-4f7e-b16e-bd9b657935f7",
        "colab": {
          "base_uri": "https://localhost:8080/",
          "height": 67
        }
      },
      "source": [
        "nums = []\n",
        "for i in range(0, n): \n",
        "    num = int(input()) \n",
        "    nums.append(num) "
      ],
      "execution_count": 0,
      "outputs": [
        {
          "output_type": "stream",
          "text": [
            "34\n",
            "12\n",
            "67\n"
          ],
          "name": "stdout"
        }
      ]
    },
    {
      "cell_type": "code",
      "metadata": {
        "id": "V-IGjWxeliud",
        "colab_type": "code",
        "outputId": "2b771368-a94c-40dd-9a3a-2b24c8ea1890",
        "colab": {
          "base_uri": "https://localhost:8080/",
          "height": 34
        }
      },
      "source": [
        "nums"
      ],
      "execution_count": 0,
      "outputs": [
        {
          "output_type": "execute_result",
          "data": {
            "text/plain": [
              "[34, 12, 67]"
            ]
          },
          "metadata": {
            "tags": []
          },
          "execution_count": 110
        }
      ]
    },
    {
      "cell_type": "code",
      "metadata": {
        "id": "N7EBbYhSiRxG",
        "colab_type": "code",
        "colab": {}
      },
      "source": [
        "def gnome(nums,n): \n",
        "  if n <= 1:\n",
        "    return nums\n",
        "  i = 1\n",
        "  while i < n:\n",
        "    if nums[i-1] <= nums[i]:\n",
        "      i += 1\n",
        "    else:\n",
        "      nums[i-1], nums[i] = nums[i], nums[i-1]\n",
        "      i -= 1\n",
        "      if (i == 0):\n",
        "        i = 1"
      ],
      "execution_count": 0,
      "outputs": []
    },
    {
      "cell_type": "code",
      "metadata": {
        "id": "Gn_z0ECokVJY",
        "colab_type": "code",
        "outputId": "b912ebee-cc2b-401e-d818-e1f08f58dbb1",
        "colab": {
          "base_uri": "https://localhost:8080/",
          "height": 34
        }
      },
      "source": [
        "gnome(nums,n)\n",
        "print(nums)"
      ],
      "execution_count": 0,
      "outputs": [
        {
          "output_type": "stream",
          "text": [
            "[12, 34, 67]\n"
          ],
          "name": "stdout"
        }
      ]
    },
    {
      "cell_type": "markdown",
      "metadata": {
        "id": "rGWPmGxLmStY",
        "colab_type": "text"
      },
      "source": [
        "5. Write a Python program to find the first duplicate element in a given array of integers. Return -1 If there are no such elements"
      ]
    },
    {
      "cell_type": "code",
      "metadata": {
        "id": "lY-4DnTvmSMH",
        "colab_type": "code",
        "colab": {}
      },
      "source": [
        "l = [1,2,5,3,4,2,1]"
      ],
      "execution_count": 0,
      "outputs": []
    },
    {
      "cell_type": "code",
      "metadata": {
        "id": "JoC10gbDoAFo",
        "colab_type": "code",
        "outputId": "a91774ae-e778-4879-9550-e4f629cb3f1b",
        "colab": {
          "base_uri": "https://localhost:8080/",
          "height": 34
        }
      },
      "source": [
        "temp = set()\n",
        "for i in range(len(l)):\n",
        "  if l[i] in temp:\n",
        "    print(l[i])\n",
        "    break;\n",
        "  else:\n",
        "    temp.add(l[i])\n",
        "\n",
        "if len(l)==len(temp):\n",
        "  print('-1')"
      ],
      "execution_count": 0,
      "outputs": [
        {
          "output_type": "stream",
          "text": [
            "2\n"
          ],
          "name": "stdout"
        }
      ]
    }
  ]
}