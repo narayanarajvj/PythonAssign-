{
  "nbformat": 4,
  "nbformat_minor": 0,
  "metadata": {
    "colab": {
      "name": "Untitled4.ipynb",
      "provenance": [],
      "collapsed_sections": [],
      "authorship_tag": "ABX9TyNA6kKQVD4g0st/8lpwfOoE",
      "include_colab_link": true
    },
    "kernelspec": {
      "name": "python3",
      "display_name": "Python 3"
    }
  },
  "cells": [
    {
      "cell_type": "markdown",
      "metadata": {
        "id": "view-in-github",
        "colab_type": "text"
      },
      "source": [
        "<a href=\"https://colab.research.google.com/github/narayanarajvj/PythonAssign-/blob/master/Assgn-2%20Files%20and%20RE.ipynb\" target=\"_parent\"><img src=\"https://colab.research.google.com/assets/colab-badge.svg\" alt=\"Open In Colab\"/></a>"
      ]
    },
    {
      "cell_type": "markdown",
      "metadata": {
        "id": "76d68tKO6CKQ",
        "colab_type": "text"
      },
      "source": [
        "1. Write a Python program to find all five characters long word in a string. \n"
      ]
    },
    {
      "cell_type": "code",
      "metadata": {
        "id": "dcVdfrVC2n1f",
        "colab_type": "code",
        "colab": {
          "base_uri": "https://localhost:8080/",
          "height": 50
        },
        "outputId": "f33934e3-2f4b-4fab-b508-62a0071440ff"
      },
      "source": [
        "import re\n",
        "text = input()\n",
        "print(re.findall(r\"\\w{5}\", text))"
      ],
      "execution_count": 48,
      "outputs": [
        {
          "output_type": "stream",
          "text": [
            "as\n",
            "[]\n"
          ],
          "name": "stdout"
        }
      ]
    },
    {
      "cell_type": "markdown",
      "metadata": {
        "id": "BTd1DNKd6dv_",
        "colab_type": "text"
      },
      "source": [
        "2. Write a Python program to find the sequences of one upper case letter followed by lower case letters. "
      ]
    },
    {
      "cell_type": "code",
      "metadata": {
        "id": "ABSjfQk56nn0",
        "colab_type": "code",
        "colab": {
          "base_uri": "https://localhost:8080/",
          "height": 50
        },
        "outputId": "46ea34cf-af10-4a47-b5a4-3a17d5f56565"
      },
      "source": [
        "import re\n",
        "text = input()\n",
        "print(re.findall(r\"[A-Z][a-z]+\",text))"
      ],
      "execution_count": 49,
      "outputs": [
        {
          "output_type": "stream",
          "text": [
            "as\n",
            "[]\n"
          ],
          "name": "stdout"
        }
      ]
    },
    {
      "cell_type": "markdown",
      "metadata": {
        "id": "-Xzzu4OW7ojQ",
        "colab_type": "text"
      },
      "source": [
        "3. Write a Python program to match a string that contains only upper and lowercase letters, numbers, and underscores. "
      ]
    },
    {
      "cell_type": "code",
      "metadata": {
        "id": "rhWfIefO7rb9",
        "colab_type": "code",
        "colab": {
          "base_uri": "https://localhost:8080/",
          "height": 50
        },
        "outputId": "a2a5b96f-da8b-4bb7-e47c-be64afdf31f7"
      },
      "source": [
        "import re\n",
        "def match(text):\n",
        "        s = '^[a-zA-Z0-9_]*$'\n",
        "        if re.search(s,  text):\n",
        "                return 'Found a match!'\n",
        "        else:\n",
        "                return('Not matched!')\n",
        "\n",
        "print(match(input()))"
      ],
      "execution_count": 51,
      "outputs": [
        {
          "output_type": "stream",
          "text": [
            "!ds\n",
            "Not matched!\n"
          ],
          "name": "stdout"
        }
      ]
    }
  ]
}